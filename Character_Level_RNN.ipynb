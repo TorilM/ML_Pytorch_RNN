{
 "cells": [
  {
   "cell_type": "markdown",
   "metadata": {},
   "source": [
    "\" Character-Level LSTM in PyTorch\n",
    "In this notebook, I'll construct a character-level LSTM with PyTorch. The network will train character by character on some text, then generate new text character by character. As an example, I will train on Anna Karenina. This model will be able to generate new text based on the text from the book!\n",
    "\n",
    "This network is based off of Andrej Karpathy's post on RNNs and implementation in Torch. Below is the general architecture of the character-wise RNN.\n",
    "![Image of Yaktocat](https://octodex.github.com/images/yaktocat.png) width=20 height=60\n",
    "<img src=\"Anna.png\" style=\"height:50px\">\n",
    "Image(filename = \"/DeepLearning/Anna.png\", width=100, height=100)\n",
    "\n",
    "![RNN-Network](https://github.com/udacity/deep-learning-v2-pytorch/blob/master/recurrent-neural-networks/char-rnn/assets/charseq.jpeg)\n",
    "\n",
    "from IPython.dispaly import Image\n",
    "\n",
    "![RNN-Network](//C:\\DeepLearning\\AnnaKarenina\\Anna.PNG)\n",
    "<img src=\"//C:/DeepLearning/AnnaKarenina/Anna.PNG\" width=60 height=60 />\n",
    "\n",
    "\n",
    "First let's load in our required resources for data loading and model creation."
   ]
  },
  {
   "cell_type": "markdown",
   "metadata": {},
   "source": [
    "\n",
    "### Load in Data\n",
    "Then, we'll load the Anna Karenina text file and convert it into integers for our network to use.\n"
   ]
  },
  {
   "cell_type": "code",
   "execution_count": 1,
   "metadata": {},
   "outputs": [],
   "source": [
    "import numpy as np\n",
    "import torch\n",
    "from torch import nn\n",
    "import torch.nn.functional as F\n",
    "\n",
    "# open text file and read in data as `text`\n",
    "with open('C:/DeepLearning/AnnaKarenina/anna.txt', 'r') as f:\n",
    "    text = f.read()"
   ]
  },
  {
   "cell_type": "markdown",
   "metadata": {},
   "source": [
    "Let's check out the first 100 characters, make sure everything is peachy. According to the American Book Review, this is the 6th best first line of a book ever.\n"
   ]
  },
  {
   "cell_type": "code",
   "execution_count": 2,
   "metadata": {},
   "outputs": [
    {
     "data": {
      "text/plain": [
       "'Chapter 1\\n\\n\\nHappy families are all alike; every unhappy family is unhappy in its own\\nway.\\n\\nEverythin'"
      ]
     },
     "execution_count": 2,
     "metadata": {},
     "output_type": "execute_result"
    }
   ],
   "source": [
    "text[:100]"
   ]
  },
  {
   "cell_type": "markdown",
   "metadata": {},
   "source": [
    "### Tokenization\n",
    "In the cells, below, I'm creating a couple *dictionaries* to convert the characters to and from integers. Encoding the characters as integers makes it easier to use as input in the network.\n"
   ]
  },
  {
   "cell_type": "code",
   "execution_count": 5,
   "metadata": {},
   "outputs": [],
   "source": [
    "# encode the text and map each character to an integer and vice versa\n",
    "\n",
    "# we create two dictionaries:\n",
    "# 1. int2char, which maps integers to characters\n",
    "# 2. char2int, which maps characters to unique integers\n",
    "\n",
    "#Text tuned into tokens, as network only learn from numerical data, map every character in the text to a unique index\n",
    "\n",
    "chars = tuple(set(text))  # set gives us a unique vocabulary as a set, a built in data structure which will look at every character in the paste in text, separate it out as a string and get rid of duplicates\n",
    "# chars are all unique characters (=vocabulary)\n",
    "#we have 83 unique chars in text (incl space, CR etc, capital letters, små boksstäver )\n",
    "\n",
    "#unique numerical identifier for each character\n",
    "int2char = dict(enumerate(chars))\n",
    "# keys = int, value = string char\n",
    "\n",
    "#dictionary goes from int to char\n",
    "char2int = {ch: ii for ii, ch in int2char.items()}\n",
    "# keys = string char, value = int\n",
    "\n",
    "# encode the text\n",
    "encoded = np.array([char2int[ch] for ch in text])"
   ]
  },
  {
   "cell_type": "markdown",
   "metadata": {},
   "source": [
    "And we can see those same characters from above, encoded as integers."
   ]
  },
  {
   "cell_type": "code",
   "execution_count": null,
   "metadata": {},
   "outputs": [],
   "source": [
    "encoded[:100]"
   ]
  },
  {
   "cell_type": "markdown",
   "metadata": {},
   "source": [
    "## Pre-processing the data\n",
    "As you can see in our char-RNN image above, our LSTM expects an input that is one-hot encoded meaning that each character is converted into an integer (via our created dictionary) and then converted into a column vector where only it's corresponding integer index will have the value of 1 and the rest of the vector will be filled with 0's. Since we're one-hot encoding the data, let's make a function to do that!\n"
   ]
  },
  {
   "cell_type": "code",
   "execution_count": 6,
   "metadata": {},
   "outputs": [],
   "source": [
    "def one_hot_encode(arr, n_labels):\n",
    "    \n",
    "    # Initialize the encoded array\n",
    "    one_hot = np.zeros((arr.size, n_labels), dtype=np.float32)\n",
    "    \n",
    "    # Fill the appropriate elements with ones\n",
    "    one_hot[np.arange(one_hot.shape[0]), arr.flatten()] = 1.\n",
    "    \n",
    "    # Finally reshape it to get back to the original array\n",
    "    one_hot = one_hot.reshape((*arr.shape, n_labels))\n",
    "    \n",
    "    return one_hot"
   ]
  },
  {
   "cell_type": "code",
   "execution_count": 7,
   "metadata": {},
   "outputs": [
    {
     "name": "stdout",
     "output_type": "stream",
     "text": [
      "[[[0. 0. 0. 1. 0. 0. 0. 0.]\n",
      "  [0. 0. 0. 0. 0. 1. 0. 0.]\n",
      "  [0. 1. 0. 0. 0. 0. 0. 0.]]]\n"
     ]
    }
   ],
   "source": [
    "# check that the function works as expected\n",
    "test_seq = np.array([[3, 5, 1]])\n",
    "one_hot = one_hot_encode(test_seq, 8)\n",
    "\n",
    "print(one_hot)"
   ]
  },
  {
   "cell_type": "markdown",
   "metadata": {},
   "source": [
    "# Making training mini-batches\n",
    "To train on this data, we also want to create mini-batches for training. Remember that we want our batches to be multiple sequences of some desired number of sequence steps. Considering a simple example, our batches would look like this:\n",
    "\n",
    "\n",
    "\n",
    "\n",
    "\n",
    "In this example, we'll take the encoded characters (passed in as the arr parameter) and split them into multiple sequences, given by batch_size. Each of our sequences will be seq_length long.\n",
    "\n",
    "## Creating Batches\n",
    "1. The first thing we need to do is discard some of the text so we only have completely full mini-batches.\n",
    "\n",
    "Each batch contains $N \\times M$ characters, where $N$ is the batch size (the number of sequences in a batch) and $M$ is the seq_length or number of time steps in a sequence. Then, to get the total number of batches, $K$, that we can make from the array arr, you divide the length of arr by the number of characters per batch. Once you know the number of batches, you can get the total number of characters to keep from arr, $N * M * K$.\n",
    "\n",
    "2. After that, we need to split arr into $N$ batches.\n",
    "\n",
    "You can do this using arr.reshape(size) where size is a tuple containing the dimensions sizes of the reshaped array. We know we want $N$ sequences in a batch, so let's make that the size of the first dimension. For the second dimension, you can use -1 as a placeholder in the size, it'll fill up the array with the appropriate data for you. After this, you should have an array that is $N \\times (M * K)$.\n",
    "\n",
    "3. Now that we have this array, we can iterate through it to get our mini-batches.\n",
    "\n",
    "The idea is each batch is a $N \\times M$ window on the $N \\times (M * K)$ array. For each subsequent batch, the window moves over by seq_length. We also want to create both the input and target arrays. Remember that the targets are just the inputs shifted over by one character. The way I like to do this window is use range to take steps of size n_steps from $0$ to arr.shape[1], the total number of tokens in each sequence. That way, the integers you get from range always point to the start of a batch, and each window is seq_length wide.\n",
    "\n",
    "\n",
    "TODO: Write the code for creating batches in the function below. The exercises in this notebook will not be easy. I've provided a notebook with solutions alongside this notebook. If you get stuck, checkout the solutions. The most important thing is that you don't copy and paste the code into here, type out the solution code yourself.\n"
   ]
  },
  {
   "cell_type": "code",
   "execution_count": 25,
   "metadata": {},
   "outputs": [],
   "source": [
    "def get_batches(arr, batch_size, seq_len):\n",
    "    '''Create a generator that returns batches of size\n",
    "       batch_size x seq_length from arr.\n",
    "       \n",
    "       Arguments\n",
    "       ---------\n",
    "       arr: Array you want to make batches from\n",
    "       batch_size: Batch size, the number of sequences per batch\n",
    "       seq_length: Number of encoded chars in a sequence\n",
    "    '''\n",
    "    batch_size_total = batch_size * seq_len\n",
    "    ## TODO: Get the number of batches we can make\n",
    "    n_batches = len(arr)//batch_size_total  # heltals divition\n",
    "    \n",
    "    ## TODO: Keep only enough characters to make full batches\n",
    "    arr = arr[:n_batches * batch_size_total]  # will loose some char, but in practise we have enought so it wont matter\n",
    "    \n",
    "    ## TODO: Reshape into batch_size rows\n",
    "    arr = arr.reshape((batch_size, -1))\n",
    "  #  print(arr[:, 4+seq_len])\n",
    "    ## TODO: Iterate over the batches using a window of size seq_length\n",
    "    # taking in a reshaped complete array and looking at all rows\n",
    "    #the columns are in the range n, n+seq_len\n",
    "    \n",
    "    for n in range(0, arr.shape[1], seq_len):  #from beginning, to end of full batch with step seq_len\n",
    "        # The features\n",
    "        x = arr[:,n:n+seq_len]   # går till den position vi är i nu och plocker seq_len antal bokstäver\n",
    "        # The targets, shifted by one\n",
    "        y = np.zeros_like(x)   #initierar till x, fill it up from the x-array shifted by one\n",
    "        try: \n",
    "            y[:, :-1], y[:, -1] = x[:, 1:], arr[:, n+seq_len]  # y[1,2,3,4,5,6,7,8],y[9] = x[2,3,4,5,6,7,8,9] + nästa rad nr 0\n",
    "        except IndexError:\n",
    "            y[:, :-1], y[:, -1] = x[:, 1:], arr[:, 0]  # when reach last in the array, we make last y equal first x, cyclical way, not necessarily correct!\n",
    "        \n",
    "        yield x, y"
   ]
  },
  {
   "cell_type": "markdown",
   "metadata": {},
   "source": [
    "## Test Your Implementation\n",
    "Now I'll make some data sets and we can check out what's going on as we batch data. Here, as an example, I'm going to use a batch size of 8 and 50 sequence steps.\n"
   ]
  },
  {
   "cell_type": "code",
   "execution_count": 24,
   "metadata": {},
   "outputs": [],
   "source": [
    "batches = get_batches(encoded, 8, 50)\n",
    "x, y = next(batches)"
   ]
  },
  {
   "cell_type": "code",
   "execution_count": 10,
   "metadata": {},
   "outputs": [
    {
     "name": "stdout",
     "output_type": "stream",
     "text": [
      "x\n",
      " [[ 5 82 15 25  8  9 76 52 49 79]\n",
      " [33 68 39 52  8 82 15  8 52 15]\n",
      " [ 9 39 16 52 68 76 52 15 52 55]\n",
      " [33 52  8 82  9 52 43 82  1  9]\n",
      " [52 33 15 51 52 82  9 76 52  8]\n",
      " [43 18 33 33  1 68 39 52 15 39]\n",
      " [52 22 39 39 15 52 82 15 16 52]\n",
      " [31 63 71 68 39 33  4 77 50 52]]\n",
      "\n",
      "y\n",
      " [[82 15 25  8  9 76 52 49 79 79]\n",
      " [68 39 52  8 82 15  8 52 15  8]\n",
      " [39 16 52 68 76 52 15 52 55 68]\n",
      " [52  8 82  9 52 43 82  1  9 55]\n",
      " [33 15 51 52 82  9 76 52  8  9]\n",
      " [18 33 33  1 68 39 52 15 39 16]\n",
      " [22 39 39 15 52 82 15 16 52 33]\n",
      " [63 71 68 39 33  4 77 50 52  0]]\n"
     ]
    }
   ],
   "source": [
    "# printing out the first 10 items in a sequence  8 rader och plocker \n",
    "print('x\\n', x[:10, :10])\n",
    "print('\\ny\\n', y[:10, :10])"
   ]
  },
  {
   "cell_type": "markdown",
   "metadata": {},
   "source": [
    "If you implemented get_batches correctly, the above output should look something like\n",
    "\n",
    "although the exact numbers may be different. Check to make sure the data is shifted over one step for y."
   ]
  },
  {
   "cell_type": "markdown",
   "metadata": {},
   "source": [
    "## Defining the network with PyTorch\n",
    "Below is where you'll define the network.\n",
    "\n",
    "\n",
    "\n",
    "Next, you'll use PyTorch to define the architecture of the network. We start by defining the layers and operations we want. Then, define a method for the forward pass. You've also been given a method for predicting characters.\n",
    "\n",
    "### Model Structure\n",
    "In __init__ the suggested structure is as follows:\n",
    "\n",
    "Create and store the necessary dictionaries (this has been done for you)\n",
    "Define an LSTM layer that takes as params: an input size (the number of characters), a hidden layer size n_hidden, a number of layers n_layers, a dropout probability drop_prob, and a batch_first boolean (True, since we are batching)\n",
    "Define a dropout layer with drop_prob\n",
    "Define a fully-connected layer with params: input size n_hidden and output size (the number of characters)\n",
    "Finally, initialize the weights (again, this has been given)\n",
    "Note that some parameters have been named and given in the __init__ function, and we use them and store them by doing something like self.drop_prob = drop_prob.\n",
    "\n",
    "### LSTM Inputs/Outputs\n",
    "You can create a basic LSTM layer as follows\n",
    "\n",
    "    self.lstm = nn.LSTM(input_size, n_hidden, n_layers, \n",
    "                            dropout=drop_prob, batch_first=True)\n",
    "where input_size is the number of characters this cell expects to see as sequential input, and n_hidden is the number of units in the hidden layers in the cell. And we can add dropout by adding a dropout parameter with a specified probability; this will automatically add dropout to the inputs or outputs. Finally, in the forward function, we can stack up the LSTM cells into layers using .view. With this, you pass in a list of cells and it will send the output of one cell into the next cell.\n",
    "\n",
    "We also need to create an initial hidden state of all zeros. This is done like so\n",
    "\n",
    "    self.init_hidden()"
   ]
  },
  {
   "cell_type": "code",
   "execution_count": 11,
   "metadata": {},
   "outputs": [
    {
     "name": "stdout",
     "output_type": "stream",
     "text": [
      "No GPU available, training on CPU; consider making n_epochs very small.\n"
     ]
    }
   ],
   "source": [
    "# check if GPU is available\n",
    "train_on_gpu = torch.cuda.is_available()\n",
    "if(train_on_gpu):\n",
    "    print('Training on GPU!')\n",
    "else: \n",
    "    print('No GPU available, training on CPU; consider making n_epochs very small.')"
   ]
  },
  {
   "cell_type": "code",
   "execution_count": 12,
   "metadata": {},
   "outputs": [],
   "source": [
    "class CharRNN(nn.Module):\n",
    "    \n",
    "    def __init__(self, tokens, n_hidden=256, n_layers=2,\n",
    "                               drop_prob=0.5, lr=0.001):\n",
    "        super().__init__()\n",
    "        self.drop_prob = drop_prob\n",
    "        self.n_layers = n_layers\n",
    "        self.n_hidden = n_hidden\n",
    "        self.lr = lr\n",
    "        \n",
    "\n",
    "        # creating character dictionaries\n",
    "        self.chars = tokens\n",
    "        self.int2char = dict(enumerate(self.chars))\n",
    "        self.char2int = {ch: ii for ii, ch in self.int2char.items()}\n",
    "        \n",
    "        ## TODO: define the layers of the model\n",
    "        self.input_size = len(tokens)\n",
    "        \n",
    "        self.lstm = nn.LSTM(len(self.chars), n_hidden, n_layers, \n",
    "                            dropout = drop_prob, batch_first=True)\n",
    "        self.dropout = nn.Dropout(drop_prob)\n",
    "        \n",
    "        # last, fully-connected layer\n",
    "        self.fc = nn.Linear(n_hidden, len(self.chars))     \n",
    "    \n",
    "    def forward(self, x, hidden):\n",
    "        ''' Forward pass through the network. \n",
    "            These inputs are x, and the hidden/cell state `hidden`. '''\n",
    "         \n",
    "        \n",
    "        ## TODO: Get the outputs and the new hidden state from the lstm\n",
    "        r_output, hidden = self.lstm(x, hidden)\n",
    "        \n",
    "        # pass thru dropout layer\n",
    "        out = self.dropout(r_output)\n",
    "        \n",
    "        #stack up LSTF outputs using view, you might have to use contiguous to reshape the output\n",
    "        out = out.contiguous().view(-1, self.n_hidden)\n",
    "        \n",
    "        #finally FC layer\n",
    "        out = self.fc(out)\n",
    "        \n",
    "        # return the final output and the hidden state\n",
    "        return out, hidden\n",
    "    \n",
    "    \n",
    "    def init_hidden(self, batch_size):\n",
    "        ''' Initializes hidden state '''\n",
    "        # Create two new tensors with sizes n_layers x batch_size x n_hidden,\n",
    "        # initialized to zero, for hidden state and cell state of LSTM\n",
    "        #hidden = np.zeros(n_layers, batch_size, n_hidden)\n",
    "        #cell   = np.zeros()\n",
    "        \n",
    "        weight = next(self.parameters()).data\n",
    "        \n",
    "        if (train_on_gpu):\n",
    "            hidden = (weight.new(self.n_layers, batch_size, self.n_hidden).zero_().cuda(),\n",
    "                  weight.new(self.n_layers, batch_size, self.n_hidden).zero_().cuda())\n",
    "        else:\n",
    "            hidden = (weight.new(self.n_layers, batch_size, self.n_hidden).zero_(),\n",
    "                      weight.new(self.n_layers, batch_size, self.n_hidden).zero_())\n",
    "        \n",
    "        return hidden"
   ]
  },
  {
   "cell_type": "markdown",
   "metadata": {},
   "source": [
    "## Time to train\n",
    "The train function gives us the ability to set the number of epochs, the learning rate, and other parameters.\n",
    "\n",
    "Below we're using an Adam optimizer and cross entropy loss since we are looking at character class scores as output. We calculate the loss and perform backpropagation, as usual!\n",
    "\n",
    "A couple of details about training:\n",
    "\n",
    "    * Within the batch loop, we detach the hidden state from its history; this time setting it equal to a new tuple variable because an LSTM has a hidden state that is a tuple of the hidden and cell states.\n",
    "\n",
    "    * We use clip_grad_norm_ to help prevent exploding gradients."
   ]
  },
  {
   "cell_type": "code",
   "execution_count": 26,
   "metadata": {},
   "outputs": [],
   "source": [
    "def train(net, data, epochs=1, batch_size=10, seq_length=50, lr=0.001, clip=5, val_frac=0.1, print_every=10):\n",
    "    ''' Training a network \n",
    "    \n",
    "        Arguments\n",
    "        ---------\n",
    "        \n",
    "        net: CharRNN network\n",
    "        data: text data to train the network\n",
    "        epochs: Number of epochs to train\n",
    "        batch_size: Number of mini-sequences per mini-batch, aka batch size\n",
    "        seq_length: Number of character steps per mini-batch\n",
    "        lr: learning rate\n",
    "        clip: gradient clipping\n",
    "        val_frac: Fraction of data to hold out for validation\n",
    "        print_every: Number of steps for printing training and validation loss\n",
    "    \n",
    "    '''\n",
    "    net.train()\n",
    "    \n",
    "    opt = torch.optim.Adam(net.parameters(), lr=lr)\n",
    "    criterion = nn.CrossEntropyLoss()\n",
    "    \n",
    "    # create training and validation data\n",
    "    val_idx = int(len(data)*(1-val_frac))\n",
    "    data, val_data = data[:val_idx], data[val_idx:]\n",
    "    \n",
    "    if(train_on_gpu):\n",
    "        net.cuda()\n",
    "    \n",
    "    counter = 0\n",
    "    n_chars = len(net.chars)\n",
    "    for e in range(epochs):\n",
    "        # initialize hidden state\n",
    "        h = net.init_hidden(batch_size)\n",
    "        \n",
    "        for x, y in get_batches(data, batch_size, seq_length):\n",
    "            counter += 1\n",
    "            \n",
    "            # One-hot encode our data and make them Torch tensors\n",
    "            x = one_hot_encode(x, n_chars)\n",
    "            inputs, targets = torch.from_numpy(x), torch.from_numpy(y)\n",
    "            \n",
    "            if(train_on_gpu):\n",
    "                inputs, targets = inputs.cuda(), targets.cuda()\n",
    "\n",
    "            # Creating new variables for the hidden state, otherwise\n",
    "            # we'd backprop through the entire training history\n",
    "            h = tuple([each.data for each in h])\n",
    "\n",
    "            # zero accumulated gradients\n",
    "            net.zero_grad()\n",
    "            \n",
    "            # get the output from the model\n",
    "            output, h = net(inputs, h)\n",
    "            \n",
    "            # calculate the loss and perform backprop\n",
    "            loss = criterion(output, targets.view(batch_size*seq_length).long())\n",
    "            loss.backward()\n",
    "            # `clip_grad_norm` helps prevent the exploding gradient problem in RNNs / LSTMs.\n",
    "            nn.utils.clip_grad_norm_(net.parameters(), clip)\n",
    "            opt.step()\n",
    "            \n",
    "            # loss stats\n",
    "            if counter % print_every == 0:\n",
    "                # Get validation loss\n",
    "                val_h = net.init_hidden(batch_size)\n",
    "                val_losses = []\n",
    "                net.eval()\n",
    "                for x, y in get_batches(val_data, batch_size, seq_length):\n",
    "                    # One-hot encode our data and make them Torch tensors\n",
    "                    x = one_hot_encode(x, n_chars)\n",
    "                    x, y = torch.from_numpy(x), torch.from_numpy(y)\n",
    "                    \n",
    "                    # Creating new variables for the hidden state, otherwise\n",
    "                    # we'd backprop through the entire training history\n",
    "                    val_h = tuple([each.data for each in val_h])\n",
    "                    \n",
    "                    inputs, targets = x, y\n",
    "                    if(train_on_gpu):\n",
    "                        inputs, targets = inputs.cuda(), targets.cuda()\n",
    "\n",
    "                    output, val_h = net(inputs, val_h)\n",
    "                    val_loss = criterion(output, targets.view(batch_size*seq_length).long())\n",
    "                \n",
    "                    val_losses.append(val_loss.item())\n",
    "                \n",
    "                net.train() # reset to train mode after iterationg through validation data\n",
    "                \n",
    "                print(\"Epoch: {}/{}...\".format(e+1, epochs),\n",
    "                      \"Step: {}...\".format(counter),\n",
    "                      \"Loss: {:.4f}...\".format(loss.item()),\n",
    "                      \"Val Loss: {:.4f}\".format(np.mean(val_losses)))"
   ]
  },
  {
   "cell_type": "markdown",
   "metadata": {},
   "source": [
    "## Instantiating the model\n",
    "Now we can actually train the network. First we'll create the network itself, with some given hyperparameters. Then, define the mini-batches sizes, and start training!\n"
   ]
  },
  {
   "cell_type": "code",
   "execution_count": 27,
   "metadata": {},
   "outputs": [
    {
     "name": "stdout",
     "output_type": "stream",
     "text": [
      "CharRNN(\n",
      "  (lstm): LSTM(83, 512, num_layers=2, batch_first=True, dropout=0.5)\n",
      "  (dropout): Dropout(p=0.5, inplace=False)\n",
      "  (fc): Linear(in_features=512, out_features=83, bias=True)\n",
      ")\n"
     ]
    }
   ],
   "source": [
    "## TODO: set your model hyperparameters\n",
    "# define and print the net\n",
    "n_hidden=512\n",
    "n_layers=2\n",
    "\n",
    "net = CharRNN(chars, n_hidden, n_layers)\n",
    "print(net)"
   ]
  },
  {
   "cell_type": "code",
   "execution_count": 23,
   "metadata": {},
   "outputs": [
    {
     "ename": "NameError",
     "evalue": "name 'arr' is not defined",
     "output_type": "error",
     "traceback": [
      "\u001b[1;31m---------------------------------------------------------------------------\u001b[0m",
      "\u001b[1;31mNameError\u001b[0m                                 Traceback (most recent call last)",
      "\u001b[1;32m<ipython-input-23-49932ee2cb0d>\u001b[0m in \u001b[0;36m<module>\u001b[1;34m\u001b[0m\n\u001b[1;32m----> 1\u001b[1;33m \u001b[0mprint\u001b[0m\u001b[1;33m(\u001b[0m\u001b[0marr\u001b[0m\u001b[1;33m[\u001b[0m\u001b[1;33m:\u001b[0m\u001b[1;33m,\u001b[0m \u001b[1;36m4\u001b[0m\u001b[1;33m+\u001b[0m\u001b[0mseq_len\u001b[0m\u001b[1;33m]\u001b[0m\u001b[1;33m)\u001b[0m\u001b[1;33m\u001b[0m\u001b[1;33m\u001b[0m\u001b[0m\n\u001b[0m",
      "\u001b[1;31mNameError\u001b[0m: name 'arr' is not defined"
     ]
    }
   ],
   "source": []
  },
  {
   "cell_type": "markdown",
   "metadata": {},
   "source": [
    "Set your training hyperparameters!"
   ]
  },
  {
   "cell_type": "code",
   "execution_count": 28,
   "metadata": {},
   "outputs": [
    {
     "name": "stdout",
     "output_type": "stream",
     "text": [
      "[33  9  8 33  9  1  8  8 82 15  8 33 76  9  9 52 52 15 52  9 79 82 77 68\n",
      " 33  9  1 82 33 52 76 82 79 52  9 37 15 52 76 39  9 18 15 51 52 52 74  9\n",
      "  8 50 68 76 74 18 82 15 76 82 52 15 39 71  8  8 68  9 74  8  8 76 52  0\n",
      " 71 16 82 77  9 77 15 82 82 82 16  8 82 71 55  8 52  8  9  9 76  0  9  9\n",
      " 52 39 25 41 50 39 77 31  9 71 39 43 79 52 15 33 79 52 65  9  9  1  9 68\n",
      "  9 64  4 18 52  0 52  1]\n",
      "[52  9  9 43  9  1 52 19 52  9 25 76  0 65 33 71 33 76 15 18  1  0 15 16\n",
      " 25 68 16 43 15 39 21 51 76  8 33 52 33 71 51 52 82 25 79 82  8  9 77 16\n",
      " 79  9 25  1  8  1 39 52 52 18 16 76 39 52 57 71  9  4 52 51 52 15 33 63\n",
      " 18 55  0  8 41 33  8 82 55  8  9  1 18  9 15 52 52  9 77 82 39 82 82  0\n",
      "  1 52 33 52 52 74 50 52  9 51 52 79 45  9 25 39 39 68 52  8 39 52 64 52\n",
      " 68 52 76 33 76  8 51 22]\n",
      "Epoch: 1/1... Step: 10... Loss: 3.2711... Val Loss: 3.2109\n",
      "[52  9  9 43  9  1 52 19 52  9 25 76  0 65 33 71 33 76 15 18  1  0 15 16\n",
      " 25 68 16 43 15 39 21 51 76  8 33 52 33 71 51 52 82 25 79 82  8  9 77 16\n",
      " 79  9 25  1  8  1 39 52 52 18 16 76 39 52 57 71  9  4 52 51 52 15 33 63\n",
      " 18 55  0  8 41 33  8 82 55  8  9  1 18  9 15 52 52  9 77 82 39 82 82  0\n",
      "  1 52 33 52 52 74 50 52  9 51 52 79 45  9 25 39 39 68 52  8 39 52 64 52\n",
      " 68 52 76 33 76  8 51 22]\n",
      "Epoch: 1/1... Step: 20... Loss: 3.1565... Val Loss: 3.1387\n",
      "[52  9  9 43  9  1 52 19 52  9 25 76  0 65 33 71 33 76 15 18  1  0 15 16\n",
      " 25 68 16 43 15 39 21 51 76  8 33 52 33 71 51 52 82 25 79 82  8  9 77 16\n",
      " 79  9 25  1  8  1 39 52 52 18 16 76 39 52 57 71  9  4 52 51 52 15 33 63\n",
      " 18 55  0  8 41 33  8 82 55  8  9  1 18  9 15 52 52  9 77 82 39 82 82  0\n",
      "  1 52 33 52 52 74 50 52  9 51 52 79 45  9 25 39 39 68 52  8 39 52 64 52\n",
      " 68 52 76 33 76  8 51 22]\n",
      "Epoch: 1/1... Step: 30... Loss: 3.1467... Val Loss: 3.1242\n",
      "[52  9  9 43  9  1 52 19 52  9 25 76  0 65 33 71 33 76 15 18  1  0 15 16\n",
      " 25 68 16 43 15 39 21 51 76  8 33 52 33 71 51 52 82 25 79 82  8  9 77 16\n",
      " 79  9 25  1  8  1 39 52 52 18 16 76 39 52 57 71  9  4 52 51 52 15 33 63\n",
      " 18 55  0  8 41 33  8 82 55  8  9  1 18  9 15 52 52  9 77 82 39 82 82  0\n",
      "  1 52 33 52 52 74 50 52  9 51 52 79 45  9 25 39 39 68 52  8 39 52 64 52\n",
      " 68 52 76 33 76  8 51 22]\n",
      "Epoch: 1/1... Step: 40... Loss: 3.1171... Val Loss: 3.1204\n",
      "[52  9  9 43  9  1 52 19 52  9 25 76  0 65 33 71 33 76 15 18  1  0 15 16\n",
      " 25 68 16 43 15 39 21 51 76  8 33 52 33 71 51 52 82 25 79 82  8  9 77 16\n",
      " 79  9 25  1  8  1 39 52 52 18 16 76 39 52 57 71  9  4 52 51 52 15 33 63\n",
      " 18 55  0  8 41 33  8 82 55  8  9  1 18  9 15 52 52  9 77 82 39 82 82  0\n",
      "  1 52 33 52 52 74 50 52  9 51 52 79 45  9 25 39 39 68 52  8 39 52 64 52\n",
      " 68 52 76 33 76  8 51 22]\n",
      "Epoch: 1/1... Step: 50... Loss: 3.1408... Val Loss: 3.1178\n",
      "[52  9  9 43  9  1 52 19 52  9 25 76  0 65 33 71 33 76 15 18  1  0 15 16\n",
      " 25 68 16 43 15 39 21 51 76  8 33 52 33 71 51 52 82 25 79 82  8  9 77 16\n",
      " 79  9 25  1  8  1 39 52 52 18 16 76 39 52 57 71  9  4 52 51 52 15 33 63\n",
      " 18 55  0  8 41 33  8 82 55  8  9  1 18  9 15 52 52  9 77 82 39 82 82  0\n",
      "  1 52 33 52 52 74 50 52  9 51 52 79 45  9 25 39 39 68 52  8 39 52 64 52\n",
      " 68 52 76 33 76  8 51 22]\n",
      "Epoch: 1/1... Step: 60... Loss: 3.1220... Val Loss: 3.1159\n",
      "[52  9  9 43  9  1 52 19 52  9 25 76  0 65 33 71 33 76 15 18  1  0 15 16\n",
      " 25 68 16 43 15 39 21 51 76  8 33 52 33 71 51 52 82 25 79 82  8  9 77 16\n",
      " 79  9 25  1  8  1 39 52 52 18 16 76 39 52 57 71  9  4 52 51 52 15 33 63\n",
      " 18 55  0  8 41 33  8 82 55  8  9  1 18  9 15 52 52  9 77 82 39 82 82  0\n",
      "  1 52 33 52 52 74 50 52  9 51 52 79 45  9 25 39 39 68 52  8 39 52 64 52\n",
      " 68 52 76 33 76  8 51 22]\n",
      "Epoch: 1/1... Step: 70... Loss: 3.1076... Val Loss: 3.1142\n",
      "[52  9  9 43  9  1 52 19 52  9 25 76  0 65 33 71 33 76 15 18  1  0 15 16\n",
      " 25 68 16 43 15 39 21 51 76  8 33 52 33 71 51 52 82 25 79 82  8  9 77 16\n",
      " 79  9 25  1  8  1 39 52 52 18 16 76 39 52 57 71  9  4 52 51 52 15 33 63\n",
      " 18 55  0  8 41 33  8 82 55  8  9  1 18  9 15 52 52  9 77 82 39 82 82  0\n",
      "  1 52 33 52 52 74 50 52  9 51 52 79 45  9 25 39 39 68 52  8 39 52 64 52\n",
      " 68 52 76 33 76  8 51 22]\n",
      "Epoch: 1/1... Step: 80... Loss: 3.1210... Val Loss: 3.1104\n",
      "[52  9  9 43  9  1 52 19 52  9 25 76  0 65 33 71 33 76 15 18  1  0 15 16\n",
      " 25 68 16 43 15 39 21 51 76  8 33 52 33 71 51 52 82 25 79 82  8  9 77 16\n",
      " 79  9 25  1  8  1 39 52 52 18 16 76 39 52 57 71  9  4 52 51 52 15 33 63\n",
      " 18 55  0  8 41 33  8 82 55  8  9  1 18  9 15 52 52  9 77 82 39 82 82  0\n",
      "  1 52 33 52 52 74 50 52  9 51 52 79 45  9 25 39 39 68 52  8 39 52 64 52\n",
      " 68 52 76 33 76  8 51 22]\n",
      "Epoch: 1/1... Step: 90... Loss: 3.1180... Val Loss: 3.1011\n",
      "[52  9  9 43  9  1 52 19 52  9 25 76  0 65 33 71 33 76 15 18  1  0 15 16\n",
      " 25 68 16 43 15 39 21 51 76  8 33 52 33 71 51 52 82 25 79 82  8  9 77 16\n",
      " 79  9 25  1  8  1 39 52 52 18 16 76 39 52 57 71  9  4 52 51 52 15 33 63\n",
      " 18 55  0  8 41 33  8 82 55  8  9  1 18  9 15 52 52  9 77 82 39 82 82  0\n",
      "  1 52 33 52 52 74 50 52  9 51 52 79 45  9 25 39 39 68 52  8 39 52 64 52\n",
      " 68 52 76 33 76  8 51 22]\n",
      "Epoch: 1/1... Step: 100... Loss: 3.0885... Val Loss: 3.0779\n",
      "[52  9  9 43  9  1 52 19 52  9 25 76  0 65 33 71 33 76 15 18  1  0 15 16\n",
      " 25 68 16 43 15 39 21 51 76  8 33 52 33 71 51 52 82 25 79 82  8  9 77 16\n",
      " 79  9 25  1  8  1 39 52 52 18 16 76 39 52 57 71  9  4 52 51 52 15 33 63\n",
      " 18 55  0  8 41 33  8 82 55  8  9  1 18  9 15 52 52  9 77 82 39 82 82  0\n",
      "  1 52 33 52 52 74 50 52  9 51 52 79 45  9 25 39 39 68 52  8 39 52 64 52\n",
      " 68 52 76 33 76  8 51 22]\n",
      "Epoch: 1/1... Step: 110... Loss: 3.0444... Val Loss: 3.0219\n",
      "[52  9  9 43  9  1 52 19 52  9 25 76  0 65 33 71 33 76 15 18  1  0 15 16\n",
      " 25 68 16 43 15 39 21 51 76  8 33 52 33 71 51 52 82 25 79 82  8  9 77 16\n",
      " 79  9 25  1  8  1 39 52 52 18 16 76 39 52 57 71  9  4 52 51 52 15 33 63\n",
      " 18 55  0  8 41 33  8 82 55  8  9  1 18  9 15 52 52  9 77 82 39 82 82  0\n",
      "  1 52 33 52 52 74 50 52  9 51 52 79 45  9 25 39 39 68 52  8 39 52 64 52\n",
      " 68 52 76 33 76  8 51 22]\n",
      "Epoch: 1/1... Step: 120... Loss: 3.0168... Val Loss: 2.9916\n",
      "[52  9  9 43  9  1 52 19 52  9 25 76  0 65 33 71 33 76 15 18  1  0 15 16\n",
      " 25 68 16 43 15 39 21 51 76  8 33 52 33 71 51 52 82 25 79 82  8  9 77 16\n",
      " 79  9 25  1  8  1 39 52 52 18 16 76 39 52 57 71  9  4 52 51 52 15 33 63\n",
      " 18 55  0  8 41 33  8 82 55  8  9  1 18  9 15 52 52  9 77 82 39 82 82  0\n",
      "  1 52 33 52 52 74 50 52  9 51 52 79 45  9 25 39 39 68 52  8 39 52 64 52\n",
      " 68 52 76 33 76  8 51 22]\n",
      "Epoch: 1/1... Step: 130... Loss: 2.9259... Val Loss: 2.8899\n"
     ]
    }
   ],
   "source": [
    "batch_size = 128\n",
    "seq_length = 100\n",
    "n_epochs =  1 # start small if you are just testing initial behavior\n",
    "\n",
    "# train the model\n",
    "train(net, encoded, epochs=n_epochs, batch_size=batch_size, seq_length=seq_length, lr=0.001, print_every=10)"
   ]
  },
  {
   "cell_type": "markdown",
   "metadata": {},
   "source": [
    "# Getting the best model\n",
    "To set your hyperparameters to get the best performance, you'll want to watch the training and validation losses. If your training loss is much lower than the validation loss, you're overfitting. Increase regularization (more dropout) or use a smaller network. If the training and validation losses are close, you're underfitting so you can increase the size of the network.\n",
    "\n",
    "# Hyperparameters\n",
    "Here are the hyperparameters for the network.\n",
    "\n",
    "In defining the model:\n",
    "\n",
    "   n_hidden - The number of units in the hidden layers.\n",
    "\n",
    "   n_layers - Number of hidden LSTM layers to use.\n",
    "    \n",
    "We assume that dropout probability and learning rate will be kept at the default, in this example.\n",
    "\n",
    "And in training:\n",
    "\n",
    "   batch_size - Number of sequences running through the network in one pass.\n",
    "\n",
    "   seq_length - Number of characters in the sequence the network is trained on. Larger is better typically, the network will learn more long range dependencies. But it takes longer to train. 100 is typically a good number here.\n",
    "\n",
    "    lr - Learning rate for training\n",
    "    \n",
    "Here's some good advice from Andrej Karpathy on training the network. I'm going to copy it in here for your benefit, but also link to where it originally came from.\n",
    "\n",
    "## Tips and Tricks\n",
    "\n",
    "  ## Monitoring Validation Loss vs. Training Loss\n",
    "    If you're somewhat new to Machine Learning or Neural Networks it can take a bit of expertise to get good models. The most important quantity to keep track of is the difference between your training loss (printed during training) and the validation loss (printed once in a while when the RNN is run on the validation data (by default every 1000 iterations)). In particular:\n",
    "\n",
    "    * If your training loss is much lower than validation loss then this means the network might be overfitting. Solutions to this are to decrease your network size, or to increase dropout. For example you could try dropout of 0.5 and so on.\n",
    "\n",
    "    * If your training/validation loss are about equal then your model is underfitting. Increase the size of your model (either number of layers or the raw number of neurons per layer)\n",
    "\n",
    "    ## Approximate number of parameters\n",
    "    The two most important parameters that control the model are n_hidden and n_layers. I would advise that you always use n_layers of either 2/3. The n_hidden can be adjusted based on how much data you have. The two important quantities to keep track of here are:\n",
    "\n",
    "    * The number of parameters in your model. This is printed when you start training.\n",
    "\n",
    "    * The size of your dataset. 1MB file is approximately 1 million characters.\n",
    "        \n",
    "    These two should be about the same order of magnitude. It's a little tricky to tell. Here are some examples:\n",
    "\n",
    "    * I have a 100MB dataset and I'm using the default parameter settings (which currently print 150K parameters). My data size is significantly larger (100 mil >> 0.15 mil), so I expect to heavily underfit. I am thinking I can comfortably afford to make n_hidden larger.\n",
    "\n",
    "    * I have a 10MB dataset and running a 10 million parameter model. I'm slightly nervous and I'm carefully monitoring my validation loss. If it's larger than my training loss then I may want to try to increase dropout a bit and see if that helps the validation loss.\n",
    "\n",
    "    ##Best models strategy\n",
    "    \n",
    "    The winning strategy to obtaining very good models (if you have the compute time) is to always err on making the network larger (as large as you're willing to wait for it to compute) and then try different dropout values (between 0,1). Whatever model has the best validation performance (the loss, written in the checkpoint filename, low is good) is the one you should use in the end.\n",
    "\n",
    "    It is very common in deep learning to run many different models with many different hyperparameter settings, and in the end take whatever checkpoint gave the best validation performance.\n",
    "\n",
    "    By the way, the size of your training and validation splits are also parameters. Make sure you have a decent amount of data in your validation set or otherwise the validation performance will be noisy and not very informative.\n",
    "\n",
    "# Checkpoint\n",
    "After training, we'll save the model so we can load it again later if we need too. Here I'm saving the parameters needed to create the same architecture, the hidden layer hyperparameters and the text characters.\n"
   ]
  },
  {
   "cell_type": "code",
   "execution_count": 29,
   "metadata": {},
   "outputs": [],
   "source": [
    "# change the name, for saving multiple files\n",
    "model_name = 'rnn_x_epoch.net'\n",
    "\n",
    "checkpoint = {'n_hidden': net.n_hidden,\n",
    "              'n_layers': net.n_layers,\n",
    "              'state_dict': net.state_dict(),\n",
    "              'tokens': net.chars}\n",
    "\n",
    "with open(model_name, 'wb') as f:\n",
    "    torch.save(checkpoint, f)"
   ]
  },
  {
   "cell_type": "markdown",
   "metadata": {},
   "source": [
    "# Making Predictions\n",
    "Now that the model is trained, we'll want to sample from it and make predictions about next characters! To sample, we pass in a character and have the network predict the next character. Then we take that character, pass it back in, and get another predicted character. Just keep doing this and you'll generate a bunch of text!\n",
    "\n",
    "## A note on the predict function\n",
    "The output of our RNN is from a fully-connected layer and it outputs a distribution of next-character scores.\n",
    "\n",
    "    To actually get the next character, we apply a softmax function, which gives us a probability distribution that we can then sample to predict the next character.\n",
    "\n",
    "## Top K sampling\n",
    "Our predictions come from a categorical probability distribution over all the possible characters. We can make the sample text and make it more reasonable to handle (with less variables) by only considering some $K$ most probable characters. This will prevent the network from giving us completely absurd characters while allowing it to introduce some noise and randomness into the sampled text. Read more about topk, here.\n"
   ]
  },
  {
   "cell_type": "code",
   "execution_count": 32,
   "metadata": {},
   "outputs": [],
   "source": [
    "def predict(net, char, h=None, top_k=None):\n",
    "        ''' Given a character, predict the next character.\n",
    "            Returns the predicted character and the hidden state.\n",
    "        '''\n",
    "        \n",
    "        # tensor inputs\n",
    "        x = np.array([[net.char2int[char]]])\n",
    "        x = one_hot_encode(x, len(net.chars))\n",
    "        inputs = torch.from_numpy(x)\n",
    "        \n",
    "        if(train_on_gpu):\n",
    "            inputs = inputs.cuda()\n",
    "        \n",
    "        # detach hidden state from history\n",
    "        h = tuple([each.data for each in h])\n",
    "        # get the output of the model\n",
    "        out, h = net(inputs, h)\n",
    "\n",
    "        # get the character probabilities\n",
    "        p = F.softmax(out, dim=1).data\n",
    "        if(train_on_gpu):\n",
    "            p = p.cpu() # move to cpu\n",
    "        \n",
    "        # get top characters\n",
    "        if top_k is None:\n",
    "            top_ch = np.arange(len(net.chars))\n",
    "        else:\n",
    "            p, top_ch = p.topk(top_k)\n",
    "            top_ch = top_ch.numpy().squeeze()\n",
    "        \n",
    "        # select the likely next character with some element of randomness\n",
    "        p = p.numpy().squeeze()\n",
    "        char = np.random.choice(top_ch, p=p/p.sum())\n",
    "        \n",
    "        # return the encoded value of the predicted char and the hidden state\n",
    "        return net.int2char[char], h"
   ]
  },
  {
   "cell_type": "markdown",
   "metadata": {},
   "source": [
    "## Priming and generating text\n",
    "Typically you'll want to prime the network so you can build up a hidden state. Otherwise the network will start out generating characters at random. In general the first bunch of characters will be a little rough since it hasn't built up a long history of characters to predict from.\n"
   ]
  },
  {
   "cell_type": "code",
   "execution_count": null,
   "metadata": {},
   "outputs": [],
   "source": [
    "\n",
    "def sample(net, size, prime='The', top_k=None):\n",
    "        \n",
    "    if(train_on_gpu):\n",
    "        net.cuda()\n",
    "    else:\n",
    "        net.cpu()\n",
    "    \n",
    "    net.eval() # eval mode\n",
    "    \n",
    "    # First off, run through the prime characters\n",
    "    chars = [ch for ch in prime]\n",
    "    h = net.init_hidden(1)\n",
    "    for ch in prime:\n",
    "        char, h = predict(net, ch, h, top_k=top_k)\n",
    "\n",
    "    chars.append(char)\n",
    "    \n",
    "    # Now pass in the previous character and get a new one\n",
    "    for ii in range(size):\n",
    "        char, h = predict(net, chars[-1], h, top_k=top_k)\n",
    "        chars.append(char)\n",
    "\n",
    "    return ''.join(chars)"
   ]
  },
  {
   "cell_type": "code",
   "execution_count": null,
   "metadata": {},
   "outputs": [],
   "source": [
    "print(sample(net, 1000, prime='Anna', top_k=5))"
   ]
  },
  {
   "cell_type": "markdown",
   "metadata": {},
   "source": [
    "# Loading a checkpoint"
   ]
  },
  {
   "cell_type": "code",
   "execution_count": null,
   "metadata": {},
   "outputs": [],
   "source": [
    "\n",
    "# Here we have loaded in a model that trained over 20 epochs `rnn_20_epoch.net`\n",
    "with open('rnn_x_epoch.net', 'rb') as f:\n",
    "    checkpoint = torch.load(f)\n",
    "    \n",
    "loaded = CharRNN(checkpoint['tokens'], n_hidden=checkpoint['n_hidden'], n_layers=checkpoint['n_layers'])\n",
    "loaded.load_state_dict(checkpoint['state_dict'])\n"
   ]
  },
  {
   "cell_type": "code",
   "execution_count": null,
   "metadata": {},
   "outputs": [],
   "source": [
    "# Sample using a loaded model\n",
    "print(sample(loaded, 2000, top_k=5, prime=\"And Levin said\"))"
   ]
  },
  {
   "cell_type": "code",
   "execution_count": 17,
   "metadata": {},
   "outputs": [
    {
     "name": "stdout",
     "output_type": "stream",
     "text": [
      "The first and last element of list are : [1, 4]\n"
     ]
    }
   ],
   "source": [
    "test_list = [1, 5, 6, 7, 4]\n",
    "res = [ test_list[0], test_list[-1] ] \n",
    "print (\"The first and last element of list are : \" +  str(res))"
   ]
  },
  {
   "cell_type": "code",
   "execution_count": null,
   "metadata": {},
   "outputs": [],
   "source": [
    "test_list = [1, 5, 6, 7, 4]\n",
    "# using List slicing\n",
    "# to get first and last element of list\n",
    "res = test_list[::len(test_list)-1] \n",
    "print (\"The first and last element of list are : \" +  str(res))"
   ]
  },
  {
   "cell_type": "code",
   "execution_count": null,
   "metadata": {},
   "outputs": [],
   "source": [
    "res =  [ test_list[i] for i in (0, -1) ]\n",
    "  \n",
    "# printing result\n",
    "print (\"The first and last element of list are : \" +  str(res))"
   ]
  },
  {
   "cell_type": "code",
   "execution_count": null,
   "metadata": {},
   "outputs": [],
   "source": [
    "Lst[ Initial : End : IndexJump ]"
   ]
  },
  {
   "cell_type": "code",
   "execution_count": null,
   "metadata": {},
   "outputs": [],
   "source": [
    " try: \n",
    "            y[:, :-1], y[:, -1] = x[:, 1:], arr[:, n+seq_len]  # remove last y = remove first x, remove all untill where we are\n",
    "        except IndexError:\n",
    "            y[:, :-1], y[:, -1] = x[:, 1:], arr[:, 0]  # when reach last in the array, we make last y equal first x, cyclical way, not necessarily correct!\n",
    "     "
   ]
  },
  {
   "cell_type": "code",
   "execution_count": 20,
   "metadata": {},
   "outputs": [
    {
     "name": "stdout",
     "output_type": "stream",
     "text": [
      "\n",
      "Original List:\n",
      " [1, 2, 3, 4, 5, 6, 7, 8, 9]\n",
      "\n",
      "Sliced Lists: \n",
      "[4, 6, 8]\n",
      "[1, 3, 5, 7, 9]\n",
      "[1, 2, 3, 4, 5, 6, 7, 8, 9]\n",
      "9 [1, 2, 3, 4, 5, 6, 7, 8]\n"
     ]
    }
   ],
   "source": [
    "# Initialize list\n",
    "List = [1, 2, 3, 4, 5, 6, 7, 8, 9]\n",
    "  \n",
    "# Show original list\n",
    "print(\"\\nOriginal List:\\n\", List)\n",
    "  \n",
    "print(\"\\nSliced Lists: \")\n",
    "  \n",
    "# Display sliced list\n",
    "print(List[3:9:2])\n",
    "  \n",
    "# Display sliced list\n",
    "print(List[::2])\n",
    "  \n",
    "# Display sliced list\n",
    "print(List[::])\n",
    "print(List[-1], List[:-1])"
   ]
  },
  {
   "cell_type": "code",
   "execution_count": 22,
   "metadata": {},
   "outputs": [
    {
     "name": "stdout",
     "output_type": "stream",
     "text": [
      "2 [1] [2, 3, 4, 5, 6, 7, 8, 9]\n"
     ]
    }
   ],
   "source": [
    "print(List[1], List[:1], List[1:])"
   ]
  },
  {
   "cell_type": "code",
   "execution_count": 37,
   "metadata": {},
   "outputs": [
    {
     "name": "stdout",
     "output_type": "stream",
     "text": [
      "[3, 4, 5, 6, 7]\n"
     ]
    }
   ],
   "source": [
    "print(List[5-2-1:5+2:1])"
   ]
  },
  {
   "cell_type": "code",
   "execution_count": null,
   "metadata": {},
   "outputs": [],
   "source": []
  }
 ],
 "metadata": {
  "kernelspec": {
   "display_name": "Python 3",
   "language": "python",
   "name": "python3"
  },
  "language_info": {
   "codemirror_mode": {
    "name": "ipython",
    "version": 3
   },
   "file_extension": ".py",
   "mimetype": "text/x-python",
   "name": "python",
   "nbconvert_exporter": "python",
   "pygments_lexer": "ipython3",
   "version": "3.8.8"
  }
 },
 "nbformat": 4,
 "nbformat_minor": 4
}
